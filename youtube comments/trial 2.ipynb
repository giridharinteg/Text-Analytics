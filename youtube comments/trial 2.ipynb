{
 "cells": [
  {
   "cell_type": "code",
   "execution_count": 3,
   "metadata": {
    "collapsed": false
   },
   "outputs": [
    {
     "name": "stderr",
     "output_type": "stream",
     "text": [
      "C:\\ProgramData\\Anaconda3\\lib\\site-packages\\oauth2client\\_helpers.py:255: UserWarning: Cannot access info.dat: No such file or directory\n",
      "  warnings.warn(_MISSING_FILE_MESSAGE.format(filename))\n",
      "usage: __main__.py [--auth_host_name AUTH_HOST_NAME]\n",
      "                   [--noauth_local_webserver]\n",
      "                   [--auth_host_port [AUTH_HOST_PORT [AUTH_HOST_PORT ...]]]\n",
      "                   [--logging_level {DEBUG,INFO,WARNING,ERROR,CRITICAL}]\n",
      "__main__.py: error: unrecognized arguments: -f C:\\Users\\giridhar.c\\AppData\\Roaming\\jupyter\\runtime\\kernel-adab707d-e1c3-4bfa-bcac-95c7c296eb28.json\n"
     ]
    },
    {
     "ename": "SystemExit",
     "evalue": "2",
     "output_type": "error",
     "traceback": [
      "An exception has occurred, use %tb to see the full traceback.\n",
      "\u001b[0;31mSystemExit\u001b[0m\u001b[0;31m:\u001b[0m 2\n"
     ]
    },
    {
     "name": "stderr",
     "output_type": "stream",
     "text": [
      "C:\\ProgramData\\Anaconda3\\lib\\site-packages\\IPython\\core\\interactiveshell.py:2889: UserWarning: To exit: use 'exit', 'quit', or Ctrl-D.\n",
      "  warn(\"To exit: use 'exit', 'quit', or Ctrl-D.\", stacklevel=1)\n"
     ]
    }
   ],
   "source": [
    "import httplib2\n",
    "\n",
    "from apiclient.discovery import build\n",
    "from oauth2client.file import Storage\n",
    "from oauth2client.client import OAuth2WebServerFlow\n",
    "from oauth2client.tools import run_flow\n",
    "\n",
    "# Set up a Flow object to be used if we need to authenticate. This\n",
    "# sample uses OAuth 2.0, and we set up the OAuth2WebServerFlow with\n",
    "# the information it needs to authenticate. Note that it is called\n",
    "# the Web Server Flow, but it can also handle the flow for\n",
    "# installed applications.\n",
    "#\n",
    "# Go to the Google API Console, open your application's\n",
    "# credentials page, and copy the client ID and client secret.\n",
    "# Then paste them into the following code.\n",
    "FLOW = OAuth2WebServerFlow(\n",
    "    client_id='677389706379-l85099j8g0ufqf3l6v27lhdq8cnd25f3.apps.googleusercontent.com',\n",
    "    client_secret='X5ibWfN07RGbkpOgM90-9gR_',\n",
    "    scope='https://www.googleapis.com/auth/contacts.readonly',\n",
    "    user_agent='Web client for gender')\n",
    "\n",
    "# If the Credentials don't exist or are invalid, run through the\n",
    "# installed application flow. The Storage object will ensure that,\n",
    "# if successful, the good Credentials will get written back to a\n",
    "# file.\n",
    "storage = Storage('info.dat')\n",
    "credentials = storage.get()\n",
    "if credentials is None or credentials.invalid == True:\n",
    "  credentials = run_flow(FLOW, storage)\n",
    "\n",
    "# Create an httplib2.Http object to handle our HTTP requests and\n",
    "# authorize it with our good Credentials.\n",
    "http = httplib2.Http()\n",
    "http = credentials.authorize(http)\n",
    "\n",
    "# Build a service object for interacting with the API. To get an API key for\n",
    "# your application, visit the Google API Console\n",
    "# and look at your application's credentials page.\n",
    "people_service = build(serviceName='people', version='v1', http=http)"
   ]
  }
 ],
 "metadata": {
  "kernelspec": {
   "display_name": "Python 3",
   "language": "python",
   "name": "python3"
  },
  "language_info": {
   "codemirror_mode": {
    "name": "ipython",
    "version": 3
   },
   "file_extension": ".py",
   "mimetype": "text/x-python",
   "name": "python",
   "nbconvert_exporter": "python",
   "pygments_lexer": "ipython3",
   "version": "3.6.9"
  }
 },
 "nbformat": 4,
 "nbformat_minor": 2
}
